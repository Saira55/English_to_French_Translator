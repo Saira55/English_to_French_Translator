{
  "nbformat": 4,
  "nbformat_minor": 0,
  "metadata": {
    "colab": {
      "provenance": []
    },
    "kernelspec": {
      "name": "python3",
      "display_name": "Python 3"
    },
    "language_info": {
      "name": "python"
    }
  },
  "cells": [
    {
      "cell_type": "code",
      "execution_count": 2,
      "metadata": {
        "colab": {
          "base_uri": "https://localhost:8080/"
        },
        "id": "OZhygCgR7zLH",
        "outputId": "7a9e0989-7b7b-4971-ab50-6ce634697e38"
      },
      "outputs": [
        {
          "output_type": "stream",
          "name": "stdout",
          "text": [
            "Requirement already satisfied: nltk in /usr/local/lib/python3.10/dist-packages (3.8.1)\n",
            "Requirement already satisfied: click in /usr/local/lib/python3.10/dist-packages (from nltk) (8.1.7)\n",
            "Requirement already satisfied: joblib in /usr/local/lib/python3.10/dist-packages (from nltk) (1.3.2)\n",
            "Requirement already satisfied: regex>=2021.8.3 in /usr/local/lib/python3.10/dist-packages (from nltk) (2023.6.3)\n",
            "Requirement already satisfied: tqdm in /usr/local/lib/python3.10/dist-packages (from nltk) (4.66.1)\n"
          ]
        }
      ],
      "source": [
        "!pip install nltk"
      ]
    },
    {
      "cell_type": "code",
      "source": [
        "!pip install gensim"
      ],
      "metadata": {
        "colab": {
          "base_uri": "https://localhost:8080/"
        },
        "id": "1BY2158I72Iv",
        "outputId": "faa60293-1d6b-4887-93b0-1f3cf0f36a15"
      },
      "execution_count": 3,
      "outputs": [
        {
          "output_type": "stream",
          "name": "stdout",
          "text": [
            "Requirement already satisfied: gensim in /usr/local/lib/python3.10/dist-packages (4.3.2)\n",
            "Requirement already satisfied: numpy>=1.18.5 in /usr/local/lib/python3.10/dist-packages (from gensim) (1.23.5)\n",
            "Requirement already satisfied: scipy>=1.7.0 in /usr/local/lib/python3.10/dist-packages (from gensim) (1.11.2)\n",
            "Requirement already satisfied: smart-open>=1.8.1 in /usr/local/lib/python3.10/dist-packages (from gensim) (6.4.0)\n"
          ]
        }
      ]
    },
    {
      "cell_type": "code",
      "source": [
        "!pip install spacy"
      ],
      "metadata": {
        "colab": {
          "base_uri": "https://localhost:8080/"
        },
        "id": "i9HtKGfv72Lo",
        "outputId": "ea01a440-c2aa-4590-d6f9-b5035a07bd00"
      },
      "execution_count": 4,
      "outputs": [
        {
          "output_type": "stream",
          "name": "stdout",
          "text": [
            "Requirement already satisfied: spacy in /usr/local/lib/python3.10/dist-packages (3.6.1)\n",
            "Requirement already satisfied: spacy-legacy<3.1.0,>=3.0.11 in /usr/local/lib/python3.10/dist-packages (from spacy) (3.0.12)\n",
            "Requirement already satisfied: spacy-loggers<2.0.0,>=1.0.0 in /usr/local/lib/python3.10/dist-packages (from spacy) (1.0.4)\n",
            "Requirement already satisfied: murmurhash<1.1.0,>=0.28.0 in /usr/local/lib/python3.10/dist-packages (from spacy) (1.0.9)\n",
            "Requirement already satisfied: cymem<2.1.0,>=2.0.2 in /usr/local/lib/python3.10/dist-packages (from spacy) (2.0.7)\n",
            "Requirement already satisfied: preshed<3.1.0,>=3.0.2 in /usr/local/lib/python3.10/dist-packages (from spacy) (3.0.8)\n",
            "Requirement already satisfied: thinc<8.2.0,>=8.1.8 in /usr/local/lib/python3.10/dist-packages (from spacy) (8.1.12)\n",
            "Requirement already satisfied: wasabi<1.2.0,>=0.9.1 in /usr/local/lib/python3.10/dist-packages (from spacy) (1.1.2)\n",
            "Requirement already satisfied: srsly<3.0.0,>=2.4.3 in /usr/local/lib/python3.10/dist-packages (from spacy) (2.4.7)\n",
            "Requirement already satisfied: catalogue<2.1.0,>=2.0.6 in /usr/local/lib/python3.10/dist-packages (from spacy) (2.0.9)\n",
            "Requirement already satisfied: typer<0.10.0,>=0.3.0 in /usr/local/lib/python3.10/dist-packages (from spacy) (0.9.0)\n",
            "Requirement already satisfied: pathy>=0.10.0 in /usr/local/lib/python3.10/dist-packages (from spacy) (0.10.2)\n",
            "Requirement already satisfied: smart-open<7.0.0,>=5.2.1 in /usr/local/lib/python3.10/dist-packages (from spacy) (6.4.0)\n",
            "Requirement already satisfied: tqdm<5.0.0,>=4.38.0 in /usr/local/lib/python3.10/dist-packages (from spacy) (4.66.1)\n",
            "Requirement already satisfied: numpy>=1.15.0 in /usr/local/lib/python3.10/dist-packages (from spacy) (1.23.5)\n",
            "Requirement already satisfied: requests<3.0.0,>=2.13.0 in /usr/local/lib/python3.10/dist-packages (from spacy) (2.31.0)\n",
            "Requirement already satisfied: pydantic!=1.8,!=1.8.1,<3.0.0,>=1.7.4 in /usr/local/lib/python3.10/dist-packages (from spacy) (1.10.12)\n",
            "Requirement already satisfied: jinja2 in /usr/local/lib/python3.10/dist-packages (from spacy) (3.1.2)\n",
            "Requirement already satisfied: setuptools in /usr/local/lib/python3.10/dist-packages (from spacy) (67.7.2)\n",
            "Requirement already satisfied: packaging>=20.0 in /usr/local/lib/python3.10/dist-packages (from spacy) (23.1)\n",
            "Requirement already satisfied: langcodes<4.0.0,>=3.2.0 in /usr/local/lib/python3.10/dist-packages (from spacy) (3.3.0)\n",
            "Requirement already satisfied: typing-extensions>=4.2.0 in /usr/local/lib/python3.10/dist-packages (from pydantic!=1.8,!=1.8.1,<3.0.0,>=1.7.4->spacy) (4.5.0)\n",
            "Requirement already satisfied: charset-normalizer<4,>=2 in /usr/local/lib/python3.10/dist-packages (from requests<3.0.0,>=2.13.0->spacy) (3.2.0)\n",
            "Requirement already satisfied: idna<4,>=2.5 in /usr/local/lib/python3.10/dist-packages (from requests<3.0.0,>=2.13.0->spacy) (3.4)\n",
            "Requirement already satisfied: urllib3<3,>=1.21.1 in /usr/local/lib/python3.10/dist-packages (from requests<3.0.0,>=2.13.0->spacy) (2.0.4)\n",
            "Requirement already satisfied: certifi>=2017.4.17 in /usr/local/lib/python3.10/dist-packages (from requests<3.0.0,>=2.13.0->spacy) (2023.7.22)\n",
            "Requirement already satisfied: blis<0.8.0,>=0.7.8 in /usr/local/lib/python3.10/dist-packages (from thinc<8.2.0,>=8.1.8->spacy) (0.7.10)\n",
            "Requirement already satisfied: confection<1.0.0,>=0.0.1 in /usr/local/lib/python3.10/dist-packages (from thinc<8.2.0,>=8.1.8->spacy) (0.1.2)\n",
            "Requirement already satisfied: click<9.0.0,>=7.1.1 in /usr/local/lib/python3.10/dist-packages (from typer<0.10.0,>=0.3.0->spacy) (8.1.7)\n",
            "Requirement already satisfied: MarkupSafe>=2.0 in /usr/local/lib/python3.10/dist-packages (from jinja2->spacy) (2.1.3)\n"
          ]
        }
      ]
    },
    {
      "cell_type": "code",
      "source": [
        "!pip install plotly"
      ],
      "metadata": {
        "colab": {
          "base_uri": "https://localhost:8080/"
        },
        "id": "Z1P6vg7o72Oo",
        "outputId": "3982523f-7b17-4e39-f6c7-92f48f0dd02b"
      },
      "execution_count": 5,
      "outputs": [
        {
          "output_type": "stream",
          "name": "stdout",
          "text": [
            "Requirement already satisfied: plotly in /usr/local/lib/python3.10/dist-packages (5.15.0)\n",
            "Requirement already satisfied: tenacity>=6.2.0 in /usr/local/lib/python3.10/dist-packages (from plotly) (8.2.3)\n",
            "Requirement already satisfied: packaging in /usr/local/lib/python3.10/dist-packages (from plotly) (23.1)\n"
          ]
        }
      ]
    },
    {
      "cell_type": "code",
      "source": [
        "import nltk\n",
        "nltk.download('punkt')"
      ],
      "metadata": {
        "colab": {
          "base_uri": "https://localhost:8080/"
        },
        "id": "vsW9xo_272R2",
        "outputId": "a40a9cfd-c1bb-4544-842a-c00234e5a796"
      },
      "execution_count": 6,
      "outputs": [
        {
          "output_type": "stream",
          "name": "stderr",
          "text": [
            "[nltk_data] Downloading package punkt to /root/nltk_data...\n",
            "[nltk_data]   Unzipping tokenizers/punkt.zip.\n"
          ]
        },
        {
          "output_type": "execute_result",
          "data": {
            "text/plain": [
              "True"
            ]
          },
          "metadata": {},
          "execution_count": 6
        }
      ]
    },
    {
      "cell_type": "code",
      "source": [
        "from collections import Counter"
      ],
      "metadata": {
        "id": "TIY_FshL72VA"
      },
      "execution_count": 7,
      "outputs": []
    },
    {
      "cell_type": "code",
      "source": [
        "import operator"
      ],
      "metadata": {
        "id": "SIM1VdgG72X2"
      },
      "execution_count": 8,
      "outputs": []
    },
    {
      "cell_type": "code",
      "source": [
        "import plotly.express as px"
      ],
      "metadata": {
        "id": "1U8d4j3a72an"
      },
      "execution_count": 9,
      "outputs": []
    },
    {
      "cell_type": "code",
      "source": [
        "import pandas as pd\n",
        "import numpy as np\n",
        "import matplotlib.pyplot as plt\n",
        "import seaborn as sns\n"
      ],
      "metadata": {
        "id": "0UGS6F5-72dY"
      },
      "execution_count": 10,
      "outputs": []
    },
    {
      "cell_type": "code",
      "source": [
        "!pip install jupyterthemes"
      ],
      "metadata": {
        "colab": {
          "base_uri": "https://localhost:8080/"
        },
        "id": "mcPl2UY-uLit",
        "outputId": "9db21d24-9de8-46de-fa33-bed988ed51e3"
      },
      "execution_count": 11,
      "outputs": [
        {
          "output_type": "stream",
          "name": "stdout",
          "text": [
            "Collecting jupyterthemes\n",
            "  Downloading jupyterthemes-0.20.0-py2.py3-none-any.whl (7.0 MB)\n",
            "\u001b[2K     \u001b[90m━━━━━━━━━━━━━━━━━━━━━━━━━━━━━━━━━━━━━━━━\u001b[0m \u001b[32m7.0/7.0 MB\u001b[0m \u001b[31m12.7 MB/s\u001b[0m eta \u001b[36m0:00:00\u001b[0m\n",
            "\u001b[?25hRequirement already satisfied: jupyter-core in /usr/local/lib/python3.10/dist-packages (from jupyterthemes) (5.3.1)\n",
            "Requirement already satisfied: notebook>=5.6.0 in /usr/local/lib/python3.10/dist-packages (from jupyterthemes) (6.5.5)\n",
            "Requirement already satisfied: ipython>=5.4.1 in /usr/local/lib/python3.10/dist-packages (from jupyterthemes) (7.34.0)\n",
            "Requirement already satisfied: matplotlib>=1.4.3 in /usr/local/lib/python3.10/dist-packages (from jupyterthemes) (3.7.1)\n",
            "Collecting lesscpy>=0.11.2 (from jupyterthemes)\n",
            "  Downloading lesscpy-0.15.1-py2.py3-none-any.whl (46 kB)\n",
            "\u001b[2K     \u001b[90m━━━━━━━━━━━━━━━━━━━━━━━━━━━━━━━━━━━━━━━━\u001b[0m \u001b[32m46.7/46.7 kB\u001b[0m \u001b[31m5.9 MB/s\u001b[0m eta \u001b[36m0:00:00\u001b[0m\n",
            "\u001b[?25hRequirement already satisfied: setuptools>=18.5 in /usr/local/lib/python3.10/dist-packages (from ipython>=5.4.1->jupyterthemes) (67.7.2)\n",
            "Collecting jedi>=0.16 (from ipython>=5.4.1->jupyterthemes)\n",
            "  Downloading jedi-0.19.0-py2.py3-none-any.whl (1.6 MB)\n",
            "\u001b[2K     \u001b[90m━━━━━━━━━━━━━━━━━━━━━━━━━━━━━━━━━━━━━━━━\u001b[0m \u001b[32m1.6/1.6 MB\u001b[0m \u001b[31m41.7 MB/s\u001b[0m eta \u001b[36m0:00:00\u001b[0m\n",
            "\u001b[?25hRequirement already satisfied: decorator in /usr/local/lib/python3.10/dist-packages (from ipython>=5.4.1->jupyterthemes) (4.4.2)\n",
            "Requirement already satisfied: pickleshare in /usr/local/lib/python3.10/dist-packages (from ipython>=5.4.1->jupyterthemes) (0.7.5)\n",
            "Requirement already satisfied: traitlets>=4.2 in /usr/local/lib/python3.10/dist-packages (from ipython>=5.4.1->jupyterthemes) (5.7.1)\n",
            "Requirement already satisfied: prompt-toolkit!=3.0.0,!=3.0.1,<3.1.0,>=2.0.0 in /usr/local/lib/python3.10/dist-packages (from ipython>=5.4.1->jupyterthemes) (3.0.39)\n",
            "Requirement already satisfied: pygments in /usr/local/lib/python3.10/dist-packages (from ipython>=5.4.1->jupyterthemes) (2.16.1)\n",
            "Requirement already satisfied: backcall in /usr/local/lib/python3.10/dist-packages (from ipython>=5.4.1->jupyterthemes) (0.2.0)\n",
            "Requirement already satisfied: matplotlib-inline in /usr/local/lib/python3.10/dist-packages (from ipython>=5.4.1->jupyterthemes) (0.1.6)\n",
            "Requirement already satisfied: pexpect>4.3 in /usr/local/lib/python3.10/dist-packages (from ipython>=5.4.1->jupyterthemes) (4.8.0)\n",
            "Collecting ply (from lesscpy>=0.11.2->jupyterthemes)\n",
            "  Downloading ply-3.11-py2.py3-none-any.whl (49 kB)\n",
            "\u001b[2K     \u001b[90m━━━━━━━━━━━━━━━━━━━━━━━━━━━━━━━━━━━━━━━━\u001b[0m \u001b[32m49.6/49.6 kB\u001b[0m \u001b[31m6.6 MB/s\u001b[0m eta \u001b[36m0:00:00\u001b[0m\n",
            "\u001b[?25hRequirement already satisfied: contourpy>=1.0.1 in /usr/local/lib/python3.10/dist-packages (from matplotlib>=1.4.3->jupyterthemes) (1.1.0)\n",
            "Requirement already satisfied: cycler>=0.10 in /usr/local/lib/python3.10/dist-packages (from matplotlib>=1.4.3->jupyterthemes) (0.11.0)\n",
            "Requirement already satisfied: fonttools>=4.22.0 in /usr/local/lib/python3.10/dist-packages (from matplotlib>=1.4.3->jupyterthemes) (4.42.1)\n",
            "Requirement already satisfied: kiwisolver>=1.0.1 in /usr/local/lib/python3.10/dist-packages (from matplotlib>=1.4.3->jupyterthemes) (1.4.5)\n",
            "Requirement already satisfied: numpy>=1.20 in /usr/local/lib/python3.10/dist-packages (from matplotlib>=1.4.3->jupyterthemes) (1.23.5)\n",
            "Requirement already satisfied: packaging>=20.0 in /usr/local/lib/python3.10/dist-packages (from matplotlib>=1.4.3->jupyterthemes) (23.1)\n",
            "Requirement already satisfied: pillow>=6.2.0 in /usr/local/lib/python3.10/dist-packages (from matplotlib>=1.4.3->jupyterthemes) (9.4.0)\n",
            "Requirement already satisfied: pyparsing>=2.3.1 in /usr/local/lib/python3.10/dist-packages (from matplotlib>=1.4.3->jupyterthemes) (3.1.1)\n",
            "Requirement already satisfied: python-dateutil>=2.7 in /usr/local/lib/python3.10/dist-packages (from matplotlib>=1.4.3->jupyterthemes) (2.8.2)\n",
            "Requirement already satisfied: jinja2 in /usr/local/lib/python3.10/dist-packages (from notebook>=5.6.0->jupyterthemes) (3.1.2)\n",
            "Requirement already satisfied: tornado>=6.1 in /usr/local/lib/python3.10/dist-packages (from notebook>=5.6.0->jupyterthemes) (6.3.2)\n",
            "Requirement already satisfied: pyzmq<25,>=17 in /usr/local/lib/python3.10/dist-packages (from notebook>=5.6.0->jupyterthemes) (23.2.1)\n",
            "Requirement already satisfied: argon2-cffi in /usr/local/lib/python3.10/dist-packages (from notebook>=5.6.0->jupyterthemes) (23.1.0)\n",
            "Requirement already satisfied: jupyter-client<8,>=5.3.4 in /usr/local/lib/python3.10/dist-packages (from notebook>=5.6.0->jupyterthemes) (6.1.12)\n",
            "Requirement already satisfied: ipython-genutils in /usr/local/lib/python3.10/dist-packages (from notebook>=5.6.0->jupyterthemes) (0.2.0)\n",
            "Requirement already satisfied: nbformat in /usr/local/lib/python3.10/dist-packages (from notebook>=5.6.0->jupyterthemes) (5.9.2)\n",
            "Requirement already satisfied: nbconvert>=5 in /usr/local/lib/python3.10/dist-packages (from notebook>=5.6.0->jupyterthemes) (6.5.4)\n",
            "Requirement already satisfied: nest-asyncio>=1.5 in /usr/local/lib/python3.10/dist-packages (from notebook>=5.6.0->jupyterthemes) (1.5.7)\n",
            "Requirement already satisfied: ipykernel in /usr/local/lib/python3.10/dist-packages (from notebook>=5.6.0->jupyterthemes) (5.5.6)\n",
            "Requirement already satisfied: Send2Trash>=1.8.0 in /usr/local/lib/python3.10/dist-packages (from notebook>=5.6.0->jupyterthemes) (1.8.2)\n",
            "Requirement already satisfied: terminado>=0.8.3 in /usr/local/lib/python3.10/dist-packages (from notebook>=5.6.0->jupyterthemes) (0.17.1)\n",
            "Requirement already satisfied: prometheus-client in /usr/local/lib/python3.10/dist-packages (from notebook>=5.6.0->jupyterthemes) (0.17.1)\n",
            "Requirement already satisfied: nbclassic>=0.4.7 in /usr/local/lib/python3.10/dist-packages (from notebook>=5.6.0->jupyterthemes) (1.0.0)\n",
            "Requirement already satisfied: platformdirs>=2.5 in /usr/local/lib/python3.10/dist-packages (from jupyter-core->jupyterthemes) (3.10.0)\n",
            "Requirement already satisfied: parso<0.9.0,>=0.8.3 in /usr/local/lib/python3.10/dist-packages (from jedi>=0.16->ipython>=5.4.1->jupyterthemes) (0.8.3)\n",
            "Requirement already satisfied: jupyter-server>=1.8 in /usr/local/lib/python3.10/dist-packages (from nbclassic>=0.4.7->notebook>=5.6.0->jupyterthemes) (1.24.0)\n",
            "Requirement already satisfied: notebook-shim>=0.2.3 in /usr/local/lib/python3.10/dist-packages (from nbclassic>=0.4.7->notebook>=5.6.0->jupyterthemes) (0.2.3)\n",
            "Requirement already satisfied: lxml in /usr/local/lib/python3.10/dist-packages (from nbconvert>=5->notebook>=5.6.0->jupyterthemes) (4.9.3)\n",
            "Requirement already satisfied: beautifulsoup4 in /usr/local/lib/python3.10/dist-packages (from nbconvert>=5->notebook>=5.6.0->jupyterthemes) (4.11.2)\n",
            "Requirement already satisfied: bleach in /usr/local/lib/python3.10/dist-packages (from nbconvert>=5->notebook>=5.6.0->jupyterthemes) (6.0.0)\n",
            "Requirement already satisfied: defusedxml in /usr/local/lib/python3.10/dist-packages (from nbconvert>=5->notebook>=5.6.0->jupyterthemes) (0.7.1)\n",
            "Requirement already satisfied: entrypoints>=0.2.2 in /usr/local/lib/python3.10/dist-packages (from nbconvert>=5->notebook>=5.6.0->jupyterthemes) (0.4)\n",
            "Requirement already satisfied: jupyterlab-pygments in /usr/local/lib/python3.10/dist-packages (from nbconvert>=5->notebook>=5.6.0->jupyterthemes) (0.2.2)\n",
            "Requirement already satisfied: MarkupSafe>=2.0 in /usr/local/lib/python3.10/dist-packages (from nbconvert>=5->notebook>=5.6.0->jupyterthemes) (2.1.3)\n",
            "Requirement already satisfied: mistune<2,>=0.8.1 in /usr/local/lib/python3.10/dist-packages (from nbconvert>=5->notebook>=5.6.0->jupyterthemes) (0.8.4)\n",
            "Requirement already satisfied: nbclient>=0.5.0 in /usr/local/lib/python3.10/dist-packages (from nbconvert>=5->notebook>=5.6.0->jupyterthemes) (0.8.0)\n",
            "Requirement already satisfied: pandocfilters>=1.4.1 in /usr/local/lib/python3.10/dist-packages (from nbconvert>=5->notebook>=5.6.0->jupyterthemes) (1.5.0)\n",
            "Requirement already satisfied: tinycss2 in /usr/local/lib/python3.10/dist-packages (from nbconvert>=5->notebook>=5.6.0->jupyterthemes) (1.2.1)\n",
            "Requirement already satisfied: fastjsonschema in /usr/local/lib/python3.10/dist-packages (from nbformat->notebook>=5.6.0->jupyterthemes) (2.18.0)\n",
            "Requirement already satisfied: jsonschema>=2.6 in /usr/local/lib/python3.10/dist-packages (from nbformat->notebook>=5.6.0->jupyterthemes) (4.19.0)\n",
            "Requirement already satisfied: ptyprocess>=0.5 in /usr/local/lib/python3.10/dist-packages (from pexpect>4.3->ipython>=5.4.1->jupyterthemes) (0.7.0)\n",
            "Requirement already satisfied: wcwidth in /usr/local/lib/python3.10/dist-packages (from prompt-toolkit!=3.0.0,!=3.0.1,<3.1.0,>=2.0.0->ipython>=5.4.1->jupyterthemes) (0.2.6)\n",
            "Requirement already satisfied: six>=1.5 in /usr/local/lib/python3.10/dist-packages (from python-dateutil>=2.7->matplotlib>=1.4.3->jupyterthemes) (1.16.0)\n",
            "Requirement already satisfied: argon2-cffi-bindings in /usr/local/lib/python3.10/dist-packages (from argon2-cffi->notebook>=5.6.0->jupyterthemes) (21.2.0)\n",
            "Requirement already satisfied: attrs>=22.2.0 in /usr/local/lib/python3.10/dist-packages (from jsonschema>=2.6->nbformat->notebook>=5.6.0->jupyterthemes) (23.1.0)\n",
            "Requirement already satisfied: jsonschema-specifications>=2023.03.6 in /usr/local/lib/python3.10/dist-packages (from jsonschema>=2.6->nbformat->notebook>=5.6.0->jupyterthemes) (2023.7.1)\n",
            "Requirement already satisfied: referencing>=0.28.4 in /usr/local/lib/python3.10/dist-packages (from jsonschema>=2.6->nbformat->notebook>=5.6.0->jupyterthemes) (0.30.2)\n",
            "Requirement already satisfied: rpds-py>=0.7.1 in /usr/local/lib/python3.10/dist-packages (from jsonschema>=2.6->nbformat->notebook>=5.6.0->jupyterthemes) (0.10.2)\n",
            "Requirement already satisfied: anyio<4,>=3.1.0 in /usr/local/lib/python3.10/dist-packages (from jupyter-server>=1.8->nbclassic>=0.4.7->notebook>=5.6.0->jupyterthemes) (3.7.1)\n",
            "Requirement already satisfied: websocket-client in /usr/local/lib/python3.10/dist-packages (from jupyter-server>=1.8->nbclassic>=0.4.7->notebook>=5.6.0->jupyterthemes) (1.6.2)\n",
            "Requirement already satisfied: cffi>=1.0.1 in /usr/local/lib/python3.10/dist-packages (from argon2-cffi-bindings->argon2-cffi->notebook>=5.6.0->jupyterthemes) (1.15.1)\n",
            "Requirement already satisfied: soupsieve>1.2 in /usr/local/lib/python3.10/dist-packages (from beautifulsoup4->nbconvert>=5->notebook>=5.6.0->jupyterthemes) (2.5)\n",
            "Requirement already satisfied: webencodings in /usr/local/lib/python3.10/dist-packages (from bleach->nbconvert>=5->notebook>=5.6.0->jupyterthemes) (0.5.1)\n",
            "Requirement already satisfied: idna>=2.8 in /usr/local/lib/python3.10/dist-packages (from anyio<4,>=3.1.0->jupyter-server>=1.8->nbclassic>=0.4.7->notebook>=5.6.0->jupyterthemes) (3.4)\n",
            "Requirement already satisfied: sniffio>=1.1 in /usr/local/lib/python3.10/dist-packages (from anyio<4,>=3.1.0->jupyter-server>=1.8->nbclassic>=0.4.7->notebook>=5.6.0->jupyterthemes) (1.3.0)\n",
            "Requirement already satisfied: exceptiongroup in /usr/local/lib/python3.10/dist-packages (from anyio<4,>=3.1.0->jupyter-server>=1.8->nbclassic>=0.4.7->notebook>=5.6.0->jupyterthemes) (1.1.3)\n",
            "Requirement already satisfied: pycparser in /usr/local/lib/python3.10/dist-packages (from cffi>=1.0.1->argon2-cffi-bindings->argon2-cffi->notebook>=5.6.0->jupyterthemes) (2.21)\n",
            "Installing collected packages: ply, lesscpy, jedi, jupyterthemes\n",
            "Successfully installed jedi-0.19.0 jupyterthemes-0.20.0 lesscpy-0.15.1 ply-3.11\n"
          ]
        }
      ]
    },
    {
      "cell_type": "code",
      "source": [
        "from wordcloud import WordCloud, STOPWORDS\n",
        "import nltk\n",
        "import re\n",
        "from nltk.stem import PorterStemmer, WordNetLemmatizer\n",
        "from nltk.corpus import stopwords\n",
        "from nltk.tokenize import word_tokenize, sent_tokenize\n",
        "import gensim\n",
        "from gensim.utils import simple_preprocess\n",
        "from gensim.parsing.preprocessing import STOPWORDS\n",
        "from tensorflow.keras.preprocessing.text import one_hot, Tokenizer\n",
        "from tensorflow.keras.preprocessing.sequence import pad_sequences\n",
        "from tensorflow.keras.models import Sequential\n",
        "from tensorflow.keras.layers import Dense, Flatten, TimeDistributed, RepeatVector, Embedding, Input, LSTM\n",
        "\n",
        "from jupyterthemes import jtplot\n",
        "jtplot.style(theme='monokai', context='notebook', ticks=True, grid=False)"
      ],
      "metadata": {
        "id": "KG-229CarymU"
      },
      "execution_count": 12,
      "outputs": []
    },
    {
      "cell_type": "code",
      "source": [
        "from tensorflow.keras.models import Model"
      ],
      "metadata": {
        "id": "L1-LgcEzrypY"
      },
      "execution_count": 13,
      "outputs": []
    },
    {
      "cell_type": "code",
      "source": [
        "from google.colab import files\n",
        "uploaded = files.upload()\n",
        "\n"
      ],
      "metadata": {
        "colab": {
          "base_uri": "https://localhost:8080/",
          "height": 73
        },
        "id": "Jenu_gifrysF",
        "outputId": "25245869-1a9b-4f81-aae9-936e4626f48a"
      },
      "execution_count": 14,
      "outputs": [
        {
          "output_type": "display_data",
          "data": {
            "text/plain": [
              "<IPython.core.display.HTML object>"
            ],
            "text/html": [
              "\n",
              "     <input type=\"file\" id=\"files-a24e6c94-a8fc-4ac6-a608-ba6634ebaf5e\" name=\"files[]\" multiple disabled\n",
              "        style=\"border:none\" />\n",
              "     <output id=\"result-a24e6c94-a8fc-4ac6-a608-ba6634ebaf5e\">\n",
              "      Upload widget is only available when the cell has been executed in the\n",
              "      current browser session. Please rerun this cell to enable.\n",
              "      </output>\n",
              "      <script>// Copyright 2017 Google LLC\n",
              "//\n",
              "// Licensed under the Apache License, Version 2.0 (the \"License\");\n",
              "// you may not use this file except in compliance with the License.\n",
              "// You may obtain a copy of the License at\n",
              "//\n",
              "//      http://www.apache.org/licenses/LICENSE-2.0\n",
              "//\n",
              "// Unless required by applicable law or agreed to in writing, software\n",
              "// distributed under the License is distributed on an \"AS IS\" BASIS,\n",
              "// WITHOUT WARRANTIES OR CONDITIONS OF ANY KIND, either express or implied.\n",
              "// See the License for the specific language governing permissions and\n",
              "// limitations under the License.\n",
              "\n",
              "/**\n",
              " * @fileoverview Helpers for google.colab Python module.\n",
              " */\n",
              "(function(scope) {\n",
              "function span(text, styleAttributes = {}) {\n",
              "  const element = document.createElement('span');\n",
              "  element.textContent = text;\n",
              "  for (const key of Object.keys(styleAttributes)) {\n",
              "    element.style[key] = styleAttributes[key];\n",
              "  }\n",
              "  return element;\n",
              "}\n",
              "\n",
              "// Max number of bytes which will be uploaded at a time.\n",
              "const MAX_PAYLOAD_SIZE = 100 * 1024;\n",
              "\n",
              "function _uploadFiles(inputId, outputId) {\n",
              "  const steps = uploadFilesStep(inputId, outputId);\n",
              "  const outputElement = document.getElementById(outputId);\n",
              "  // Cache steps on the outputElement to make it available for the next call\n",
              "  // to uploadFilesContinue from Python.\n",
              "  outputElement.steps = steps;\n",
              "\n",
              "  return _uploadFilesContinue(outputId);\n",
              "}\n",
              "\n",
              "// This is roughly an async generator (not supported in the browser yet),\n",
              "// where there are multiple asynchronous steps and the Python side is going\n",
              "// to poll for completion of each step.\n",
              "// This uses a Promise to block the python side on completion of each step,\n",
              "// then passes the result of the previous step as the input to the next step.\n",
              "function _uploadFilesContinue(outputId) {\n",
              "  const outputElement = document.getElementById(outputId);\n",
              "  const steps = outputElement.steps;\n",
              "\n",
              "  const next = steps.next(outputElement.lastPromiseValue);\n",
              "  return Promise.resolve(next.value.promise).then((value) => {\n",
              "    // Cache the last promise value to make it available to the next\n",
              "    // step of the generator.\n",
              "    outputElement.lastPromiseValue = value;\n",
              "    return next.value.response;\n",
              "  });\n",
              "}\n",
              "\n",
              "/**\n",
              " * Generator function which is called between each async step of the upload\n",
              " * process.\n",
              " * @param {string} inputId Element ID of the input file picker element.\n",
              " * @param {string} outputId Element ID of the output display.\n",
              " * @return {!Iterable<!Object>} Iterable of next steps.\n",
              " */\n",
              "function* uploadFilesStep(inputId, outputId) {\n",
              "  const inputElement = document.getElementById(inputId);\n",
              "  inputElement.disabled = false;\n",
              "\n",
              "  const outputElement = document.getElementById(outputId);\n",
              "  outputElement.innerHTML = '';\n",
              "\n",
              "  const pickedPromise = new Promise((resolve) => {\n",
              "    inputElement.addEventListener('change', (e) => {\n",
              "      resolve(e.target.files);\n",
              "    });\n",
              "  });\n",
              "\n",
              "  const cancel = document.createElement('button');\n",
              "  inputElement.parentElement.appendChild(cancel);\n",
              "  cancel.textContent = 'Cancel upload';\n",
              "  const cancelPromise = new Promise((resolve) => {\n",
              "    cancel.onclick = () => {\n",
              "      resolve(null);\n",
              "    };\n",
              "  });\n",
              "\n",
              "  // Wait for the user to pick the files.\n",
              "  const files = yield {\n",
              "    promise: Promise.race([pickedPromise, cancelPromise]),\n",
              "    response: {\n",
              "      action: 'starting',\n",
              "    }\n",
              "  };\n",
              "\n",
              "  cancel.remove();\n",
              "\n",
              "  // Disable the input element since further picks are not allowed.\n",
              "  inputElement.disabled = true;\n",
              "\n",
              "  if (!files) {\n",
              "    return {\n",
              "      response: {\n",
              "        action: 'complete',\n",
              "      }\n",
              "    };\n",
              "  }\n",
              "\n",
              "  for (const file of files) {\n",
              "    const li = document.createElement('li');\n",
              "    li.append(span(file.name, {fontWeight: 'bold'}));\n",
              "    li.append(span(\n",
              "        `(${file.type || 'n/a'}) - ${file.size} bytes, ` +\n",
              "        `last modified: ${\n",
              "            file.lastModifiedDate ? file.lastModifiedDate.toLocaleDateString() :\n",
              "                                    'n/a'} - `));\n",
              "    const percent = span('0% done');\n",
              "    li.appendChild(percent);\n",
              "\n",
              "    outputElement.appendChild(li);\n",
              "\n",
              "    const fileDataPromise = new Promise((resolve) => {\n",
              "      const reader = new FileReader();\n",
              "      reader.onload = (e) => {\n",
              "        resolve(e.target.result);\n",
              "      };\n",
              "      reader.readAsArrayBuffer(file);\n",
              "    });\n",
              "    // Wait for the data to be ready.\n",
              "    let fileData = yield {\n",
              "      promise: fileDataPromise,\n",
              "      response: {\n",
              "        action: 'continue',\n",
              "      }\n",
              "    };\n",
              "\n",
              "    // Use a chunked sending to avoid message size limits. See b/62115660.\n",
              "    let position = 0;\n",
              "    do {\n",
              "      const length = Math.min(fileData.byteLength - position, MAX_PAYLOAD_SIZE);\n",
              "      const chunk = new Uint8Array(fileData, position, length);\n",
              "      position += length;\n",
              "\n",
              "      const base64 = btoa(String.fromCharCode.apply(null, chunk));\n",
              "      yield {\n",
              "        response: {\n",
              "          action: 'append',\n",
              "          file: file.name,\n",
              "          data: base64,\n",
              "        },\n",
              "      };\n",
              "\n",
              "      let percentDone = fileData.byteLength === 0 ?\n",
              "          100 :\n",
              "          Math.round((position / fileData.byteLength) * 100);\n",
              "      percent.textContent = `${percentDone}% done`;\n",
              "\n",
              "    } while (position < fileData.byteLength);\n",
              "  }\n",
              "\n",
              "  // All done.\n",
              "  yield {\n",
              "    response: {\n",
              "      action: 'complete',\n",
              "    }\n",
              "  };\n",
              "}\n",
              "\n",
              "scope.google = scope.google || {};\n",
              "scope.google.colab = scope.google.colab || {};\n",
              "scope.google.colab._files = {\n",
              "  _uploadFiles,\n",
              "  _uploadFilesContinue,\n",
              "};\n",
              "})(self);\n",
              "</script> "
            ]
          },
          "metadata": {}
        },
        {
          "output_type": "stream",
          "name": "stdout",
          "text": [
            "Saving small_vocab_en.csv to small_vocab_en.csv\n"
          ]
        }
      ]
    },
    {
      "cell_type": "code",
      "source": [
        "def_english=pd.read_csv('small_vocab_en.csv', sep='/t', names=['english'])"
      ],
      "metadata": {
        "colab": {
          "base_uri": "https://localhost:8080/"
        },
        "id": "AR4GEsIPryvS",
        "outputId": "c210c37d-3563-4907-d9e6-3a02b0df1f81"
      },
      "execution_count": 15,
      "outputs": [
        {
          "output_type": "stream",
          "name": "stderr",
          "text": [
            "<ipython-input-15-6d0148786ebd>:1: ParserWarning: Falling back to the 'python' engine because the 'c' engine does not support regex separators (separators > 1 char and different from '\\s+' are interpreted as regex); you can avoid this warning by specifying engine='python'.\n",
            "  def_english=pd.read_csv('small_vocab_en.csv', sep='/t', names=['english'])\n"
          ]
        }
      ]
    },
    {
      "cell_type": "code",
      "source": [
        "from google.colab import files\n",
        "uploaded = files.upload()"
      ],
      "metadata": {
        "colab": {
          "base_uri": "https://localhost:8080/",
          "height": 73
        },
        "id": "-IVXBmvIryyX",
        "outputId": "8d59735a-a914-4f69-9c1b-84c89d60a965"
      },
      "execution_count": 16,
      "outputs": [
        {
          "output_type": "display_data",
          "data": {
            "text/plain": [
              "<IPython.core.display.HTML object>"
            ],
            "text/html": [
              "\n",
              "     <input type=\"file\" id=\"files-e8821878-b97d-4c51-b722-b0f989e4d612\" name=\"files[]\" multiple disabled\n",
              "        style=\"border:none\" />\n",
              "     <output id=\"result-e8821878-b97d-4c51-b722-b0f989e4d612\">\n",
              "      Upload widget is only available when the cell has been executed in the\n",
              "      current browser session. Please rerun this cell to enable.\n",
              "      </output>\n",
              "      <script>// Copyright 2017 Google LLC\n",
              "//\n",
              "// Licensed under the Apache License, Version 2.0 (the \"License\");\n",
              "// you may not use this file except in compliance with the License.\n",
              "// You may obtain a copy of the License at\n",
              "//\n",
              "//      http://www.apache.org/licenses/LICENSE-2.0\n",
              "//\n",
              "// Unless required by applicable law or agreed to in writing, software\n",
              "// distributed under the License is distributed on an \"AS IS\" BASIS,\n",
              "// WITHOUT WARRANTIES OR CONDITIONS OF ANY KIND, either express or implied.\n",
              "// See the License for the specific language governing permissions and\n",
              "// limitations under the License.\n",
              "\n",
              "/**\n",
              " * @fileoverview Helpers for google.colab Python module.\n",
              " */\n",
              "(function(scope) {\n",
              "function span(text, styleAttributes = {}) {\n",
              "  const element = document.createElement('span');\n",
              "  element.textContent = text;\n",
              "  for (const key of Object.keys(styleAttributes)) {\n",
              "    element.style[key] = styleAttributes[key];\n",
              "  }\n",
              "  return element;\n",
              "}\n",
              "\n",
              "// Max number of bytes which will be uploaded at a time.\n",
              "const MAX_PAYLOAD_SIZE = 100 * 1024;\n",
              "\n",
              "function _uploadFiles(inputId, outputId) {\n",
              "  const steps = uploadFilesStep(inputId, outputId);\n",
              "  const outputElement = document.getElementById(outputId);\n",
              "  // Cache steps on the outputElement to make it available for the next call\n",
              "  // to uploadFilesContinue from Python.\n",
              "  outputElement.steps = steps;\n",
              "\n",
              "  return _uploadFilesContinue(outputId);\n",
              "}\n",
              "\n",
              "// This is roughly an async generator (not supported in the browser yet),\n",
              "// where there are multiple asynchronous steps and the Python side is going\n",
              "// to poll for completion of each step.\n",
              "// This uses a Promise to block the python side on completion of each step,\n",
              "// then passes the result of the previous step as the input to the next step.\n",
              "function _uploadFilesContinue(outputId) {\n",
              "  const outputElement = document.getElementById(outputId);\n",
              "  const steps = outputElement.steps;\n",
              "\n",
              "  const next = steps.next(outputElement.lastPromiseValue);\n",
              "  return Promise.resolve(next.value.promise).then((value) => {\n",
              "    // Cache the last promise value to make it available to the next\n",
              "    // step of the generator.\n",
              "    outputElement.lastPromiseValue = value;\n",
              "    return next.value.response;\n",
              "  });\n",
              "}\n",
              "\n",
              "/**\n",
              " * Generator function which is called between each async step of the upload\n",
              " * process.\n",
              " * @param {string} inputId Element ID of the input file picker element.\n",
              " * @param {string} outputId Element ID of the output display.\n",
              " * @return {!Iterable<!Object>} Iterable of next steps.\n",
              " */\n",
              "function* uploadFilesStep(inputId, outputId) {\n",
              "  const inputElement = document.getElementById(inputId);\n",
              "  inputElement.disabled = false;\n",
              "\n",
              "  const outputElement = document.getElementById(outputId);\n",
              "  outputElement.innerHTML = '';\n",
              "\n",
              "  const pickedPromise = new Promise((resolve) => {\n",
              "    inputElement.addEventListener('change', (e) => {\n",
              "      resolve(e.target.files);\n",
              "    });\n",
              "  });\n",
              "\n",
              "  const cancel = document.createElement('button');\n",
              "  inputElement.parentElement.appendChild(cancel);\n",
              "  cancel.textContent = 'Cancel upload';\n",
              "  const cancelPromise = new Promise((resolve) => {\n",
              "    cancel.onclick = () => {\n",
              "      resolve(null);\n",
              "    };\n",
              "  });\n",
              "\n",
              "  // Wait for the user to pick the files.\n",
              "  const files = yield {\n",
              "    promise: Promise.race([pickedPromise, cancelPromise]),\n",
              "    response: {\n",
              "      action: 'starting',\n",
              "    }\n",
              "  };\n",
              "\n",
              "  cancel.remove();\n",
              "\n",
              "  // Disable the input element since further picks are not allowed.\n",
              "  inputElement.disabled = true;\n",
              "\n",
              "  if (!files) {\n",
              "    return {\n",
              "      response: {\n",
              "        action: 'complete',\n",
              "      }\n",
              "    };\n",
              "  }\n",
              "\n",
              "  for (const file of files) {\n",
              "    const li = document.createElement('li');\n",
              "    li.append(span(file.name, {fontWeight: 'bold'}));\n",
              "    li.append(span(\n",
              "        `(${file.type || 'n/a'}) - ${file.size} bytes, ` +\n",
              "        `last modified: ${\n",
              "            file.lastModifiedDate ? file.lastModifiedDate.toLocaleDateString() :\n",
              "                                    'n/a'} - `));\n",
              "    const percent = span('0% done');\n",
              "    li.appendChild(percent);\n",
              "\n",
              "    outputElement.appendChild(li);\n",
              "\n",
              "    const fileDataPromise = new Promise((resolve) => {\n",
              "      const reader = new FileReader();\n",
              "      reader.onload = (e) => {\n",
              "        resolve(e.target.result);\n",
              "      };\n",
              "      reader.readAsArrayBuffer(file);\n",
              "    });\n",
              "    // Wait for the data to be ready.\n",
              "    let fileData = yield {\n",
              "      promise: fileDataPromise,\n",
              "      response: {\n",
              "        action: 'continue',\n",
              "      }\n",
              "    };\n",
              "\n",
              "    // Use a chunked sending to avoid message size limits. See b/62115660.\n",
              "    let position = 0;\n",
              "    do {\n",
              "      const length = Math.min(fileData.byteLength - position, MAX_PAYLOAD_SIZE);\n",
              "      const chunk = new Uint8Array(fileData, position, length);\n",
              "      position += length;\n",
              "\n",
              "      const base64 = btoa(String.fromCharCode.apply(null, chunk));\n",
              "      yield {\n",
              "        response: {\n",
              "          action: 'append',\n",
              "          file: file.name,\n",
              "          data: base64,\n",
              "        },\n",
              "      };\n",
              "\n",
              "      let percentDone = fileData.byteLength === 0 ?\n",
              "          100 :\n",
              "          Math.round((position / fileData.byteLength) * 100);\n",
              "      percent.textContent = `${percentDone}% done`;\n",
              "\n",
              "    } while (position < fileData.byteLength);\n",
              "  }\n",
              "\n",
              "  // All done.\n",
              "  yield {\n",
              "    response: {\n",
              "      action: 'complete',\n",
              "    }\n",
              "  };\n",
              "}\n",
              "\n",
              "scope.google = scope.google || {};\n",
              "scope.google.colab = scope.google.colab || {};\n",
              "scope.google.colab._files = {\n",
              "  _uploadFiles,\n",
              "  _uploadFilesContinue,\n",
              "};\n",
              "})(self);\n",
              "</script> "
            ]
          },
          "metadata": {}
        },
        {
          "output_type": "stream",
          "name": "stdout",
          "text": [
            "Saving small_vocab_fr.csv to small_vocab_fr.csv\n"
          ]
        }
      ]
    },
    {
      "cell_type": "code",
      "source": [
        "def_french=pd.read_csv('small_vocab_fr.csv', sep='/t', names=['french'])"
      ],
      "metadata": {
        "colab": {
          "base_uri": "https://localhost:8080/"
        },
        "id": "rzMn8o7FtCGd",
        "outputId": "e50f3d50-9713-492f-aafa-5804285aec77"
      },
      "execution_count": 17,
      "outputs": [
        {
          "output_type": "stream",
          "name": "stderr",
          "text": [
            "<ipython-input-17-e59cd4dfe1e6>:1: ParserWarning: Falling back to the 'python' engine because the 'c' engine does not support regex separators (separators > 1 char and different from '\\s+' are interpreted as regex); you can avoid this warning by specifying engine='python'.\n",
            "  def_french=pd.read_csv('small_vocab_fr.csv', sep='/t', names=['french'])\n"
          ]
        }
      ]
    },
    {
      "cell_type": "code",
      "source": [
        "def_english.shape"
      ],
      "metadata": {
        "colab": {
          "base_uri": "https://localhost:8080/"
        },
        "id": "-liFnVRItvcb",
        "outputId": "b32fe71f-ac92-41d7-eab0-d75774fdbd9f"
      },
      "execution_count": 18,
      "outputs": [
        {
          "output_type": "execute_result",
          "data": {
            "text/plain": [
              "(137860, 1)"
            ]
          },
          "metadata": {},
          "execution_count": 18
        }
      ]
    },
    {
      "cell_type": "code",
      "source": [
        "def_french.shape"
      ],
      "metadata": {
        "colab": {
          "base_uri": "https://localhost:8080/"
        },
        "id": "81_KOTwvtvfp",
        "outputId": "b1f96117-3151-48c6-cdd1-dfaace356118"
      },
      "execution_count": 19,
      "outputs": [
        {
          "output_type": "execute_result",
          "data": {
            "text/plain": [
              "(137860, 1)"
            ]
          },
          "metadata": {},
          "execution_count": 19
        }
      ]
    },
    {
      "cell_type": "code",
      "source": [
        "def_english.info()"
      ],
      "metadata": {
        "colab": {
          "base_uri": "https://localhost:8080/"
        },
        "id": "YKlZbkO-tviw",
        "outputId": "8d9e7c53-7257-40fd-b803-0aec87c6fbea"
      },
      "execution_count": 20,
      "outputs": [
        {
          "output_type": "stream",
          "name": "stdout",
          "text": [
            "<class 'pandas.core.frame.DataFrame'>\n",
            "RangeIndex: 137860 entries, 0 to 137859\n",
            "Data columns (total 1 columns):\n",
            " #   Column   Non-Null Count   Dtype \n",
            "---  ------   --------------   ----- \n",
            " 0   english  137860 non-null  object\n",
            "dtypes: object(1)\n",
            "memory usage: 1.1+ MB\n"
          ]
        }
      ]
    },
    {
      "cell_type": "code",
      "source": [
        "def_french.info()"
      ],
      "metadata": {
        "colab": {
          "base_uri": "https://localhost:8080/"
        },
        "id": "BE-HIOg-tvly",
        "outputId": "5aa3b40d-3999-48cd-b6d6-9b826697b16d"
      },
      "execution_count": 21,
      "outputs": [
        {
          "output_type": "stream",
          "name": "stdout",
          "text": [
            "<class 'pandas.core.frame.DataFrame'>\n",
            "RangeIndex: 137860 entries, 0 to 137859\n",
            "Data columns (total 1 columns):\n",
            " #   Column  Non-Null Count   Dtype \n",
            "---  ------  --------------   ----- \n",
            " 0   french  137860 non-null  object\n",
            "dtypes: object(1)\n",
            "memory usage: 1.1+ MB\n"
          ]
        }
      ]
    },
    {
      "cell_type": "code",
      "source": [
        "df=pd.concat([def_english, def_french], axis=1)"
      ],
      "metadata": {
        "id": "U4Czhnwwtvr7"
      },
      "execution_count": 22,
      "outputs": []
    },
    {
      "cell_type": "code",
      "source": [
        "df"
      ],
      "metadata": {
        "colab": {
          "base_uri": "https://localhost:8080/",
          "height": 441
        },
        "id": "2SawujjOvYRm",
        "outputId": "afa42707-d70a-4dcf-ccbd-6867b145994c"
      },
      "execution_count": 23,
      "outputs": [
        {
          "output_type": "execute_result",
          "data": {
            "text/plain": [
              "                                                  english  \\\n",
              "0       new jersey is sometimes quiet during autumn , ...   \n",
              "1       the united states is usually chilly during jul...   \n",
              "2       california is usually quiet during march , and...   \n",
              "3       the united states is sometimes mild during jun...   \n",
              "4       your least liked fruit is the grape , but my l...   \n",
              "...                                                   ...   \n",
              "137855  france is never busy during march , and it is ...   \n",
              "137856  india is sometimes beautiful during spring , a...   \n",
              "137857  india is never wet during summer , but it is s...   \n",
              "137858  france is never chilly during january , but it...   \n",
              "137859  the orange is her favorite fruit , but the ban...   \n",
              "\n",
              "                                                   french  \n",
              "0       new jersey est parfois calme pendant l' automn...  \n",
              "1       les états-unis est généralement froid en juill...  \n",
              "2       california est généralement calme en mars , et...  \n",
              "3       les états-unis est parfois légère en juin , et...  \n",
              "4       votre moins aimé fruit est le raisin , mais mo...  \n",
              "...                                                   ...  \n",
              "137855  la france est jamais occupée en mars , et il e...  \n",
              "137856  l' inde est parfois belle au printemps , et il...  \n",
              "137857  l' inde est jamais mouillé pendant l' été , ma...  \n",
              "137858  la france est jamais froid en janvier , mais i...  \n",
              "137859  l'orange est son fruit préféré , mais la banan...  \n",
              "\n",
              "[137860 rows x 2 columns]"
            ],
            "text/html": [
              "\n",
              "  <div id=\"df-b418b5c8-b714-4661-9179-7e5c15ad438e\" class=\"colab-df-container\">\n",
              "    <div>\n",
              "<style scoped>\n",
              "    .dataframe tbody tr th:only-of-type {\n",
              "        vertical-align: middle;\n",
              "    }\n",
              "\n",
              "    .dataframe tbody tr th {\n",
              "        vertical-align: top;\n",
              "    }\n",
              "\n",
              "    .dataframe thead th {\n",
              "        text-align: right;\n",
              "    }\n",
              "</style>\n",
              "<table border=\"1\" class=\"dataframe\">\n",
              "  <thead>\n",
              "    <tr style=\"text-align: right;\">\n",
              "      <th></th>\n",
              "      <th>english</th>\n",
              "      <th>french</th>\n",
              "    </tr>\n",
              "  </thead>\n",
              "  <tbody>\n",
              "    <tr>\n",
              "      <th>0</th>\n",
              "      <td>new jersey is sometimes quiet during autumn , ...</td>\n",
              "      <td>new jersey est parfois calme pendant l' automn...</td>\n",
              "    </tr>\n",
              "    <tr>\n",
              "      <th>1</th>\n",
              "      <td>the united states is usually chilly during jul...</td>\n",
              "      <td>les états-unis est généralement froid en juill...</td>\n",
              "    </tr>\n",
              "    <tr>\n",
              "      <th>2</th>\n",
              "      <td>california is usually quiet during march , and...</td>\n",
              "      <td>california est généralement calme en mars , et...</td>\n",
              "    </tr>\n",
              "    <tr>\n",
              "      <th>3</th>\n",
              "      <td>the united states is sometimes mild during jun...</td>\n",
              "      <td>les états-unis est parfois légère en juin , et...</td>\n",
              "    </tr>\n",
              "    <tr>\n",
              "      <th>4</th>\n",
              "      <td>your least liked fruit is the grape , but my l...</td>\n",
              "      <td>votre moins aimé fruit est le raisin , mais mo...</td>\n",
              "    </tr>\n",
              "    <tr>\n",
              "      <th>...</th>\n",
              "      <td>...</td>\n",
              "      <td>...</td>\n",
              "    </tr>\n",
              "    <tr>\n",
              "      <th>137855</th>\n",
              "      <td>france is never busy during march , and it is ...</td>\n",
              "      <td>la france est jamais occupée en mars , et il e...</td>\n",
              "    </tr>\n",
              "    <tr>\n",
              "      <th>137856</th>\n",
              "      <td>india is sometimes beautiful during spring , a...</td>\n",
              "      <td>l' inde est parfois belle au printemps , et il...</td>\n",
              "    </tr>\n",
              "    <tr>\n",
              "      <th>137857</th>\n",
              "      <td>india is never wet during summer , but it is s...</td>\n",
              "      <td>l' inde est jamais mouillé pendant l' été , ma...</td>\n",
              "    </tr>\n",
              "    <tr>\n",
              "      <th>137858</th>\n",
              "      <td>france is never chilly during january , but it...</td>\n",
              "      <td>la france est jamais froid en janvier , mais i...</td>\n",
              "    </tr>\n",
              "    <tr>\n",
              "      <th>137859</th>\n",
              "      <td>the orange is her favorite fruit , but the ban...</td>\n",
              "      <td>l'orange est son fruit préféré , mais la banan...</td>\n",
              "    </tr>\n",
              "  </tbody>\n",
              "</table>\n",
              "<p>137860 rows × 2 columns</p>\n",
              "</div>\n",
              "    <div class=\"colab-df-buttons\">\n",
              "\n",
              "  <div class=\"colab-df-container\">\n",
              "    <button class=\"colab-df-convert\" onclick=\"convertToInteractive('df-b418b5c8-b714-4661-9179-7e5c15ad438e')\"\n",
              "            title=\"Convert this dataframe to an interactive table.\"\n",
              "            style=\"display:none;\">\n",
              "\n",
              "  <svg xmlns=\"http://www.w3.org/2000/svg\" height=\"24px\" viewBox=\"0 -960 960 960\">\n",
              "    <path d=\"M120-120v-720h720v720H120Zm60-500h600v-160H180v160Zm220 220h160v-160H400v160Zm0 220h160v-160H400v160ZM180-400h160v-160H180v160Zm440 0h160v-160H620v160ZM180-180h160v-160H180v160Zm440 0h160v-160H620v160Z\"/>\n",
              "  </svg>\n",
              "    </button>\n",
              "\n",
              "  <style>\n",
              "    .colab-df-container {\n",
              "      display:flex;\n",
              "      gap: 12px;\n",
              "    }\n",
              "\n",
              "    .colab-df-convert {\n",
              "      background-color: #E8F0FE;\n",
              "      border: none;\n",
              "      border-radius: 50%;\n",
              "      cursor: pointer;\n",
              "      display: none;\n",
              "      fill: #1967D2;\n",
              "      height: 32px;\n",
              "      padding: 0 0 0 0;\n",
              "      width: 32px;\n",
              "    }\n",
              "\n",
              "    .colab-df-convert:hover {\n",
              "      background-color: #E2EBFA;\n",
              "      box-shadow: 0px 1px 2px rgba(60, 64, 67, 0.3), 0px 1px 3px 1px rgba(60, 64, 67, 0.15);\n",
              "      fill: #174EA6;\n",
              "    }\n",
              "\n",
              "    .colab-df-buttons div {\n",
              "      margin-bottom: 4px;\n",
              "    }\n",
              "\n",
              "    [theme=dark] .colab-df-convert {\n",
              "      background-color: #3B4455;\n",
              "      fill: #D2E3FC;\n",
              "    }\n",
              "\n",
              "    [theme=dark] .colab-df-convert:hover {\n",
              "      background-color: #434B5C;\n",
              "      box-shadow: 0px 1px 3px 1px rgba(0, 0, 0, 0.15);\n",
              "      filter: drop-shadow(0px 1px 2px rgba(0, 0, 0, 0.3));\n",
              "      fill: #FFFFFF;\n",
              "    }\n",
              "  </style>\n",
              "\n",
              "    <script>\n",
              "      const buttonEl =\n",
              "        document.querySelector('#df-b418b5c8-b714-4661-9179-7e5c15ad438e button.colab-df-convert');\n",
              "      buttonEl.style.display =\n",
              "        google.colab.kernel.accessAllowed ? 'block' : 'none';\n",
              "\n",
              "      async function convertToInteractive(key) {\n",
              "        const element = document.querySelector('#df-b418b5c8-b714-4661-9179-7e5c15ad438e');\n",
              "        const dataTable =\n",
              "          await google.colab.kernel.invokeFunction('convertToInteractive',\n",
              "                                                    [key], {});\n",
              "        if (!dataTable) return;\n",
              "\n",
              "        const docLinkHtml = 'Like what you see? Visit the ' +\n",
              "          '<a target=\"_blank\" href=https://colab.research.google.com/notebooks/data_table.ipynb>data table notebook</a>'\n",
              "          + ' to learn more about interactive tables.';\n",
              "        element.innerHTML = '';\n",
              "        dataTable['output_type'] = 'display_data';\n",
              "        await google.colab.output.renderOutput(dataTable, element);\n",
              "        const docLink = document.createElement('div');\n",
              "        docLink.innerHTML = docLinkHtml;\n",
              "        element.appendChild(docLink);\n",
              "      }\n",
              "    </script>\n",
              "  </div>\n",
              "\n",
              "\n",
              "<div id=\"df-c6bc73da-e41a-440b-9b9c-fc918720fe45\">\n",
              "  <button class=\"colab-df-quickchart\" onclick=\"quickchart('df-c6bc73da-e41a-440b-9b9c-fc918720fe45')\"\n",
              "            title=\"Suggest charts.\"\n",
              "            style=\"display:none;\">\n",
              "\n",
              "<svg xmlns=\"http://www.w3.org/2000/svg\" height=\"24px\"viewBox=\"0 0 24 24\"\n",
              "     width=\"24px\">\n",
              "    <g>\n",
              "        <path d=\"M19 3H5c-1.1 0-2 .9-2 2v14c0 1.1.9 2 2 2h14c1.1 0 2-.9 2-2V5c0-1.1-.9-2-2-2zM9 17H7v-7h2v7zm4 0h-2V7h2v10zm4 0h-2v-4h2v4z\"/>\n",
              "    </g>\n",
              "</svg>\n",
              "  </button>\n",
              "\n",
              "<style>\n",
              "  .colab-df-quickchart {\n",
              "      --bg-color: #E8F0FE;\n",
              "      --fill-color: #1967D2;\n",
              "      --hover-bg-color: #E2EBFA;\n",
              "      --hover-fill-color: #174EA6;\n",
              "      --disabled-fill-color: #AAA;\n",
              "      --disabled-bg-color: #DDD;\n",
              "  }\n",
              "\n",
              "  [theme=dark] .colab-df-quickchart {\n",
              "      --bg-color: #3B4455;\n",
              "      --fill-color: #D2E3FC;\n",
              "      --hover-bg-color: #434B5C;\n",
              "      --hover-fill-color: #FFFFFF;\n",
              "      --disabled-bg-color: #3B4455;\n",
              "      --disabled-fill-color: #666;\n",
              "  }\n",
              "\n",
              "  .colab-df-quickchart {\n",
              "    background-color: var(--bg-color);\n",
              "    border: none;\n",
              "    border-radius: 50%;\n",
              "    cursor: pointer;\n",
              "    display: none;\n",
              "    fill: var(--fill-color);\n",
              "    height: 32px;\n",
              "    padding: 0;\n",
              "    width: 32px;\n",
              "  }\n",
              "\n",
              "  .colab-df-quickchart:hover {\n",
              "    background-color: var(--hover-bg-color);\n",
              "    box-shadow: 0 1px 2px rgba(60, 64, 67, 0.3), 0 1px 3px 1px rgba(60, 64, 67, 0.15);\n",
              "    fill: var(--button-hover-fill-color);\n",
              "  }\n",
              "\n",
              "  .colab-df-quickchart-complete:disabled,\n",
              "  .colab-df-quickchart-complete:disabled:hover {\n",
              "    background-color: var(--disabled-bg-color);\n",
              "    fill: var(--disabled-fill-color);\n",
              "    box-shadow: none;\n",
              "  }\n",
              "\n",
              "  .colab-df-spinner {\n",
              "    border: 2px solid var(--fill-color);\n",
              "    border-color: transparent;\n",
              "    border-bottom-color: var(--fill-color);\n",
              "    animation:\n",
              "      spin 1s steps(1) infinite;\n",
              "  }\n",
              "\n",
              "  @keyframes spin {\n",
              "    0% {\n",
              "      border-color: transparent;\n",
              "      border-bottom-color: var(--fill-color);\n",
              "      border-left-color: var(--fill-color);\n",
              "    }\n",
              "    20% {\n",
              "      border-color: transparent;\n",
              "      border-left-color: var(--fill-color);\n",
              "      border-top-color: var(--fill-color);\n",
              "    }\n",
              "    30% {\n",
              "      border-color: transparent;\n",
              "      border-left-color: var(--fill-color);\n",
              "      border-top-color: var(--fill-color);\n",
              "      border-right-color: var(--fill-color);\n",
              "    }\n",
              "    40% {\n",
              "      border-color: transparent;\n",
              "      border-right-color: var(--fill-color);\n",
              "      border-top-color: var(--fill-color);\n",
              "    }\n",
              "    60% {\n",
              "      border-color: transparent;\n",
              "      border-right-color: var(--fill-color);\n",
              "    }\n",
              "    80% {\n",
              "      border-color: transparent;\n",
              "      border-right-color: var(--fill-color);\n",
              "      border-bottom-color: var(--fill-color);\n",
              "    }\n",
              "    90% {\n",
              "      border-color: transparent;\n",
              "      border-bottom-color: var(--fill-color);\n",
              "    }\n",
              "  }\n",
              "</style>\n",
              "\n",
              "  <script>\n",
              "    async function quickchart(key) {\n",
              "      const quickchartButtonEl =\n",
              "        document.querySelector('#' + key + ' button');\n",
              "      quickchartButtonEl.disabled = true;  // To prevent multiple clicks.\n",
              "      quickchartButtonEl.classList.add('colab-df-spinner');\n",
              "      try {\n",
              "        const charts = await google.colab.kernel.invokeFunction(\n",
              "            'suggestCharts', [key], {});\n",
              "      } catch (error) {\n",
              "        console.error('Error during call to suggestCharts:', error);\n",
              "      }\n",
              "      quickchartButtonEl.classList.remove('colab-df-spinner');\n",
              "      quickchartButtonEl.classList.add('colab-df-quickchart-complete');\n",
              "    }\n",
              "    (() => {\n",
              "      let quickchartButtonEl =\n",
              "        document.querySelector('#df-c6bc73da-e41a-440b-9b9c-fc918720fe45 button');\n",
              "      quickchartButtonEl.style.display =\n",
              "        google.colab.kernel.accessAllowed ? 'block' : 'none';\n",
              "    })();\n",
              "  </script>\n",
              "</div>\n",
              "    </div>\n",
              "  </div>\n"
            ]
          },
          "metadata": {},
          "execution_count": 23
        }
      ]
    },
    {
      "cell_type": "code",
      "source": [
        "print('Total English Records={}'.format(len(df['english'])))\n",
        "print('Total French Records={}'.format(len(df['french'])))"
      ],
      "metadata": {
        "colab": {
          "base_uri": "https://localhost:8080/"
        },
        "id": "pRYby43hvYU9",
        "outputId": "b19ae4aa-09d0-4c32-d73e-9568e4b43801"
      },
      "execution_count": 25,
      "outputs": [
        {
          "output_type": "stream",
          "name": "stdout",
          "text": [
            "Total English Records=137860\n",
            "Total French Records=137860\n"
          ]
        }
      ]
    },
    {
      "cell_type": "code",
      "source": [],
      "metadata": {
        "id": "eQPNFSccvYYW"
      },
      "execution_count": 24,
      "outputs": []
    },
    {
      "cell_type": "markdown",
      "source": [
        "##TASK 3"
      ],
      "metadata": {
        "id": "_QNehREK-aLE"
      }
    },
    {
      "cell_type": "code",
      "source": [
        "def remove_punc(x):\n",
        "  return re.sub('[!#?,.:\";]', '', x)"
      ],
      "metadata": {
        "id": "UJlFuTu4vYbX"
      },
      "execution_count": 38,
      "outputs": []
    },
    {
      "cell_type": "code",
      "source": [
        "df['french']=df['french'].apply(remove_punc)\n",
        "df['engliah']=df['english'].apply(remove_punc)"
      ],
      "metadata": {
        "id": "Az19XHppvYeh"
      },
      "execution_count": 39,
      "outputs": []
    },
    {
      "cell_type": "code",
      "source": [
        "english_words=[]\n",
        "french_words=[]"
      ],
      "metadata": {
        "id": "TGc76Q_qvYhi"
      },
      "execution_count": 40,
      "outputs": []
    },
    {
      "cell_type": "code",
      "source": [
        "def get_unique_words(x, word_list):\n",
        "  for word in x.split():\n",
        "    if word not in word_list:\n",
        "      word_list.append(word)\n",
        "\n",
        "df['english'].apply(lambda x: get_unique_words(x, english_words))\n",
        "df['french'].apply(lambda x: get_unique_words(x, french_words))\n",
        "\n",
        "english_words\n",
        ""
      ],
      "metadata": {
        "colab": {
          "base_uri": "https://localhost:8080/"
        },
        "id": "p8AyemMAvYkh",
        "outputId": "6f47c306-139a-4b6f-d511-e9ef07b44851"
      },
      "execution_count": 42,
      "outputs": [
        {
          "output_type": "execute_result",
          "data": {
            "text/plain": [
              "['new',\n",
              " 'jersey',\n",
              " 'is',\n",
              " 'sometimes',\n",
              " 'quiet',\n",
              " 'during',\n",
              " 'autumn',\n",
              " ',',\n",
              " 'and',\n",
              " 'it',\n",
              " 'snowy',\n",
              " 'in',\n",
              " 'april',\n",
              " '.',\n",
              " 'the',\n",
              " 'united',\n",
              " 'states',\n",
              " 'usually',\n",
              " 'chilly',\n",
              " 'july',\n",
              " 'freezing',\n",
              " 'november',\n",
              " 'california',\n",
              " 'march',\n",
              " 'hot',\n",
              " 'june',\n",
              " 'mild',\n",
              " 'cold',\n",
              " 'september',\n",
              " 'your',\n",
              " 'least',\n",
              " 'liked',\n",
              " 'fruit',\n",
              " 'grape',\n",
              " 'but',\n",
              " 'my',\n",
              " 'apple',\n",
              " 'his',\n",
              " 'favorite',\n",
              " 'orange',\n",
              " 'paris',\n",
              " 'relaxing',\n",
              " 'december',\n",
              " 'busy',\n",
              " 'spring',\n",
              " 'never',\n",
              " 'our',\n",
              " 'lemon',\n",
              " 'january',\n",
              " 'warm',\n",
              " 'lime',\n",
              " 'her',\n",
              " 'banana',\n",
              " 'he',\n",
              " 'saw',\n",
              " 'a',\n",
              " 'old',\n",
              " 'yellow',\n",
              " 'truck',\n",
              " 'india',\n",
              " 'rainy',\n",
              " 'that',\n",
              " 'cat',\n",
              " 'was',\n",
              " 'most',\n",
              " 'loved',\n",
              " 'animal',\n",
              " 'dislikes',\n",
              " 'grapefruit',\n",
              " 'limes',\n",
              " 'lemons',\n",
              " 'february',\n",
              " 'china',\n",
              " 'pleasant',\n",
              " 'october',\n",
              " 'wonderful',\n",
              " 'nice',\n",
              " 'summer',\n",
              " 'france',\n",
              " 'may',\n",
              " 'grapes',\n",
              " 'mangoes.',\n",
              " 'their',\n",
              " 'mango',\n",
              " 'pear',\n",
              " 'august',\n",
              " 'beautiful',\n",
              " 'apples',\n",
              " 'peaches',\n",
              " 'feared',\n",
              " 'shark',\n",
              " 'wet',\n",
              " 'dry',\n",
              " 'we',\n",
              " 'like',\n",
              " 'oranges',\n",
              " 'mangoes',\n",
              " 'they',\n",
              " 'pears',\n",
              " 'she',\n",
              " 'little',\n",
              " 'red',\n",
              " 'winter',\n",
              " 'disliked',\n",
              " 'rusty',\n",
              " 'car',\n",
              " 'strawberries',\n",
              " 'i',\n",
              " 'strawberry',\n",
              " 'bananas.',\n",
              " 'going',\n",
              " 'to',\n",
              " 'next',\n",
              " 'plan',\n",
              " 'visit',\n",
              " 'elephants',\n",
              " 'were',\n",
              " 'animals',\n",
              " 'favorite.',\n",
              " 'are',\n",
              " 'likes',\n",
              " 'bananas',\n",
              " 'dislike',\n",
              " 'fall',\n",
              " 'driving',\n",
              " 'oranges.',\n",
              " 'liked.',\n",
              " 'peach',\n",
              " 'loved.',\n",
              " 'drives',\n",
              " 'blue',\n",
              " 'you',\n",
              " 'bird',\n",
              " 'grapefruit.',\n",
              " 'horses',\n",
              " 'mouse',\n",
              " 'went',\n",
              " 'last',\n",
              " 'peaches.',\n",
              " 'horse',\n",
              " 'automobile',\n",
              " 'dogs',\n",
              " 'white',\n",
              " 'elephant',\n",
              " 'lemons.',\n",
              " 'mango.',\n",
              " 'apples.',\n",
              " 'banana.',\n",
              " 'peach.',\n",
              " 'black',\n",
              " 'think',\n",
              " 'difficult',\n",
              " 'translate',\n",
              " 'between',\n",
              " 'spanish',\n",
              " 'portuguese',\n",
              " 'big',\n",
              " 'green',\n",
              " 'strawberries.',\n",
              " 'translating',\n",
              " 'fun',\n",
              " 'grapes.',\n",
              " 'lemon.',\n",
              " 'where',\n",
              " '?',\n",
              " 'dog',\n",
              " 'why',\n",
              " 'might',\n",
              " 'go',\n",
              " 'this',\n",
              " 'drove',\n",
              " 'shiny',\n",
              " 'orange.',\n",
              " 'pear.',\n",
              " 'sharks',\n",
              " 'monkey',\n",
              " 'strawberry.',\n",
              " 'how',\n",
              " 'weather',\n",
              " 'lion',\n",
              " 'plans',\n",
              " 'bear',\n",
              " 'pears.',\n",
              " 'apple.',\n",
              " 'rabbit',\n",
              " \"it's\",\n",
              " 'chinese',\n",
              " 'when',\n",
              " 'eiffel',\n",
              " 'tower',\n",
              " 'did',\n",
              " 'grocery',\n",
              " 'store',\n",
              " 'wanted',\n",
              " 'fruit.',\n",
              " 'does',\n",
              " 'football',\n",
              " 'field',\n",
              " 'wants',\n",
              " \"didn't\",\n",
              " 'lime.',\n",
              " 'snake',\n",
              " 'snakes',\n",
              " 'do',\n",
              " 'easy',\n",
              " 'thinks',\n",
              " 'english',\n",
              " 'french',\n",
              " 'would',\n",
              " \"aren't\",\n",
              " 'cats',\n",
              " 'rabbits',\n",
              " 'has',\n",
              " 'been',\n",
              " 'limes.',\n",
              " 'monkeys',\n",
              " 'grape.',\n",
              " 'lake',\n",
              " 'bears',\n",
              " 'school',\n",
              " 'birds',\n",
              " 'want',\n",
              " \"isn't\",\n",
              " 'lions',\n",
              " 'am',\n",
              " 'mice',\n",
              " 'have']"
            ]
          },
          "metadata": {},
          "execution_count": 42
        }
      ]
    },
    {
      "cell_type": "code",
      "source": [
        "french_words"
      ],
      "metadata": {
        "colab": {
          "base_uri": "https://localhost:8080/"
        },
        "id": "v-4NxUXOvYnn",
        "outputId": "c65b9524-68ca-40db-d088-aa5fcb81e1dd"
      },
      "execution_count": 43,
      "outputs": [
        {
          "output_type": "execute_result",
          "data": {
            "text/plain": [
              "['new',\n",
              " 'jersey',\n",
              " 'est',\n",
              " 'parfois',\n",
              " 'calme',\n",
              " 'pendant',\n",
              " \"l'\",\n",
              " 'automne',\n",
              " 'et',\n",
              " 'il',\n",
              " 'neigeux',\n",
              " 'en',\n",
              " 'avril',\n",
              " 'les',\n",
              " 'états-unis',\n",
              " 'généralement',\n",
              " 'froid',\n",
              " 'juillet',\n",
              " 'gèle',\n",
              " 'habituellement',\n",
              " 'novembre',\n",
              " 'california',\n",
              " 'mars',\n",
              " 'chaud',\n",
              " 'juin',\n",
              " 'légère',\n",
              " 'fait',\n",
              " 'septembre',\n",
              " 'votre',\n",
              " 'moins',\n",
              " 'aimé',\n",
              " 'fruit',\n",
              " 'le',\n",
              " 'raisin',\n",
              " 'mais',\n",
              " 'mon',\n",
              " 'la',\n",
              " 'pomme',\n",
              " 'son',\n",
              " 'préféré',\n",
              " \"l'orange\",\n",
              " 'paris',\n",
              " 'relaxant',\n",
              " 'décembre',\n",
              " 'occupé',\n",
              " 'au',\n",
              " 'printemps',\n",
              " 'jamais',\n",
              " 'chaude',\n",
              " 'notre',\n",
              " 'citron',\n",
              " 'janvier',\n",
              " 'chaux',\n",
              " 'des',\n",
              " 'fruits',\n",
              " 'banane',\n",
              " 'a',\n",
              " 'vu',\n",
              " 'un',\n",
              " 'vieux',\n",
              " 'camion',\n",
              " 'jaune',\n",
              " 'inde',\n",
              " 'pluvieux',\n",
              " 'ce',\n",
              " 'chat',\n",
              " 'était',\n",
              " 'animal',\n",
              " 'plus',\n",
              " \"n'aime\",\n",
              " 'pamplemousse',\n",
              " 'citrons',\n",
              " 'verts',\n",
              " 'californie',\n",
              " 'ne',\n",
              " 'février',\n",
              " 'gel',\n",
              " 'chine',\n",
              " 'agréable',\n",
              " 'octobre',\n",
              " 'merveilleux',\n",
              " 'doux',\n",
              " 'tranquille',\n",
              " 'à',\n",
              " \"l'automne\",\n",
              " 'été',\n",
              " 'france',\n",
              " 'mois',\n",
              " 'de',\n",
              " 'mai',\n",
              " 'frisquet',\n",
              " 'déteste',\n",
              " 'raisins',\n",
              " 'mangues',\n",
              " 'leur',\n",
              " 'mangue',\n",
              " 'poire',\n",
              " 'août',\n",
              " 'beau',\n",
              " 'pommes',\n",
              " 'pêches',\n",
              " 'redouté',\n",
              " 'que',\n",
              " 'requin',\n",
              " 'humide',\n",
              " \"d'\",\n",
              " 'sec',\n",
              " 'enneigée',\n",
              " 'nous',\n",
              " 'aimons',\n",
              " 'oranges',\n",
              " 'ils',\n",
              " 'aiment',\n",
              " 'poires',\n",
              " 'elle',\n",
              " 'petit',\n",
              " 'rouge',\n",
              " 'cher',\n",
              " 'aimée',\n",
              " 'neige',\n",
              " 'trop',\n",
              " 'monde',\n",
              " 'hiver',\n",
              " 'sont',\n",
              " \"n'aimait\",\n",
              " 'pas',\n",
              " 'une',\n",
              " 'voiture',\n",
              " 'rouillée',\n",
              " 'fraises',\n",
              " 'cours',\n",
              " \"j'aime\",\n",
              " 'fraise',\n",
              " 'bananes',\n",
              " 'va',\n",
              " 'aux',\n",
              " 'prochain',\n",
              " 'je',\n",
              " 'prévois',\n",
              " 'visiter',\n",
              " 'belle',\n",
              " 'éléphants',\n",
              " 'étaient',\n",
              " 'ses',\n",
              " 'animaux',\n",
              " 'redoutés',\n",
              " 'vont',\n",
              " 'aime',\n",
              " 'préférée',\n",
              " \"n'aiment\",\n",
              " 'i',\n",
              " 'comme',\n",
              " 'conduit',\n",
              " 'pêche',\n",
              " 'nouvelle',\n",
              " 'bleue',\n",
              " 'vous',\n",
              " 'aimez',\n",
              " 'cet',\n",
              " 'oiseau',\n",
              " 'pamplemousses',\n",
              " 'pleut',\n",
              " 'magnifique',\n",
              " 'favori',\n",
              " 'vos',\n",
              " 'aimés',\n",
              " 'chevaux',\n",
              " \"n'aimez\",\n",
              " \"n'aimons\",\n",
              " 'souris',\n",
              " 'détestons',\n",
              " 'allé',\n",
              " 'dernier',\n",
              " 'conduisait',\n",
              " 'petite',\n",
              " 'glaciales',\n",
              " 'cheval',\n",
              " 'vieille',\n",
              " 'chiens',\n",
              " 'préférés',\n",
              " 'blanche',\n",
              " 'occupée',\n",
              " 'nos',\n",
              " \"l'éléphant\",\n",
              " 'nouveau',\n",
              " 'noire',\n",
              " 'pluies',\n",
              " 'pense',\n",
              " \"qu'il\",\n",
              " 'difficile',\n",
              " 'traduire',\n",
              " 'entre',\n",
              " 'espagnol',\n",
              " 'portugais',\n",
              " 'bleu',\n",
              " 'rouillé',\n",
              " 'aimait',\n",
              " 'grande',\n",
              " 'verte',\n",
              " 'traduction',\n",
              " 'amusant',\n",
              " 'cette',\n",
              " 'vert',\n",
              " 'grand',\n",
              " 'blanc',\n",
              " 'volant',\n",
              " 'gros',\n",
              " 'où',\n",
              " 'États-unis',\n",
              " 'chien',\n",
              " 'leurs',\n",
              " 'pourquoi',\n",
              " '-',\n",
              " \"l'automobile\",\n",
              " 'pourrait',\n",
              " 'se',\n",
              " 'rendre',\n",
              " 'prévoyons',\n",
              " 'maillot',\n",
              " 'grosse',\n",
              " 'brillant',\n",
              " 'prévoient',\n",
              " 'mouillée',\n",
              " 'lui',\n",
              " 'détendre',\n",
              " 'automobile',\n",
              " 'pourraient',\n",
              " 'aller',\n",
              " 'mes',\n",
              " 'sèche',\n",
              " \"l'oiseau\",\n",
              " 'pluie',\n",
              " 'requins',\n",
              " 'noir',\n",
              " 'singe',\n",
              " 'détestait',\n",
              " 'comment',\n",
              " 'temps',\n",
              " 'dans',\n",
              " 'lion',\n",
              " 'prévoit',\n",
              " 'ours',\n",
              " 'porcelaine',\n",
              " 'clémentes',\n",
              " 'plaît',\n",
              " 'proches',\n",
              " 'brillante',\n",
              " 'lapin',\n",
              " \"l'ours\",\n",
              " 'chinois',\n",
              " 'quand',\n",
              " 'tour',\n",
              " 'eiffel',\n",
              " 'est-ce',\n",
              " 'allons',\n",
              " \"l'épicerie\",\n",
              " 'voulait',\n",
              " 'cépage',\n",
              " 't',\n",
              " 'terrain',\n",
              " 'football',\n",
              " 'du',\n",
              " 'veut',\n",
              " 'éléphant',\n",
              " 'gelé',\n",
              " 'bien',\n",
              " 'enneigé',\n",
              " 'gelés',\n",
              " 'serpent',\n",
              " 'allés',\n",
              " 'allée',\n",
              " 'envisage',\n",
              " 'peu',\n",
              " 'mouillé',\n",
              " 'serpents',\n",
              " 'pensez',\n",
              " 'facile',\n",
              " 'anglais',\n",
              " 'français',\n",
              " 'voulez',\n",
              " 'grandes',\n",
              " 'avez',\n",
              " 'aimeraient',\n",
              " 'allez',\n",
              " 'chats',\n",
              " 'lapins',\n",
              " 'visite',\n",
              " 'ont',\n",
              " 'intention',\n",
              " \"n'est\",\n",
              " '-elle',\n",
              " 'dernière',\n",
              " 'voulaient',\n",
              " 'singes',\n",
              " 'êtes-vous',\n",
              " '-ce',\n",
              " \"qu'elle\",\n",
              " 'vers',\n",
              " 'lac',\n",
              " 'pousse',\n",
              " 'détestez',\n",
              " 'manguiers',\n",
              " 'grands',\n",
              " '-il',\n",
              " \"l'école\",\n",
              " '-ils',\n",
              " \"l'animal\",\n",
              " 'at',\n",
              " 'oiseaux',\n",
              " 'ressort',\n",
              " 'petits',\n",
              " \"n'a\",\n",
              " 'veulent',\n",
              " 'rouille',\n",
              " 'frais',\n",
              " 'limes',\n",
              " 'lions',\n",
              " 'douce',\n",
              " 'envisagent',\n",
              " 'petites',\n",
              " 'vais',\n",
              " 'durant',\n",
              " \"c'est\",\n",
              " 'congélation',\n",
              " 'allions',\n",
              " 'voudrait',\n",
              " 'détend',\n",
              " 'trouvé',\n",
              " 'préférées',\n",
              " 'conduite',\n",
              " 'grosses',\n",
              " 'bénigne',\n",
              " 'avons',\n",
              " 'sur',\n",
              " 'redoutée',\n",
              " 'etats-unis',\n",
              " 'moindres',\n",
              " 'aiment-ils',\n",
              " \"n'êtes\",\n",
              " 'vit',\n",
              " 'as-tu',\n",
              " 'qui',\n",
              " 'faire',\n",
              " 'traduis',\n",
              " 'favoris',\n",
              " 'souvent',\n",
              " 'es-tu',\n",
              " 'apprécié',\n",
              " 'moteur',\n",
              " 'tout']"
            ]
          },
          "metadata": {},
          "execution_count": 43
        }
      ]
    },
    {
      "cell_type": "code",
      "source": [
        "total_english_words=len(english_words)\n",
        "total_english_words"
      ],
      "metadata": {
        "colab": {
          "base_uri": "https://localhost:8080/"
        },
        "id": "Oj8S0S0qvYrL",
        "outputId": "3e9599cd-8702-4528-eda9-a4a28b83df66"
      },
      "execution_count": 44,
      "outputs": [
        {
          "output_type": "execute_result",
          "data": {
            "text/plain": [
              "227"
            ]
          },
          "metadata": {},
          "execution_count": 44
        }
      ]
    },
    {
      "cell_type": "code",
      "source": [
        "total_french_words=len(french_words)\n",
        "total_french_words"
      ],
      "metadata": {
        "colab": {
          "base_uri": "https://localhost:8080/"
        },
        "id": "zXEC3IQACd5I",
        "outputId": "6835033f-7d8f-453f-9fb3-36f73ce35022"
      },
      "execution_count": 45,
      "outputs": [
        {
          "output_type": "execute_result",
          "data": {
            "text/plain": [
              "350"
            ]
          },
          "metadata": {},
          "execution_count": 45
        }
      ]
    },
    {
      "cell_type": "code",
      "source": [],
      "metadata": {
        "id": "ZsFHCrGiCd8c"
      },
      "execution_count": null,
      "outputs": []
    },
    {
      "cell_type": "markdown",
      "source": [
        "# Task 4"
      ],
      "metadata": {
        "id": "TocN3QP5DKGB"
      }
    },
    {
      "cell_type": "code",
      "source": [],
      "metadata": {
        "id": "NQJWhb3GDI8V"
      },
      "execution_count": null,
      "outputs": []
    },
    {
      "cell_type": "code",
      "source": [],
      "metadata": {
        "id": "5DIg6hY7Cd_m"
      },
      "execution_count": null,
      "outputs": []
    },
    {
      "cell_type": "code",
      "source": [],
      "metadata": {
        "id": "w9ES2w-ICeDE"
      },
      "execution_count": null,
      "outputs": []
    },
    {
      "cell_type": "code",
      "source": [],
      "metadata": {
        "id": "EuoqBbk9CeF-"
      },
      "execution_count": null,
      "outputs": []
    },
    {
      "cell_type": "code",
      "source": [],
      "metadata": {
        "id": "4M5gABWWCeJW"
      },
      "execution_count": null,
      "outputs": []
    },
    {
      "cell_type": "code",
      "source": [],
      "metadata": {
        "id": "QDratQUCCeMI"
      },
      "execution_count": null,
      "outputs": []
    },
    {
      "cell_type": "code",
      "source": [],
      "metadata": {
        "id": "L4M6C4pbCePC"
      },
      "execution_count": null,
      "outputs": []
    },
    {
      "cell_type": "code",
      "source": [],
      "metadata": {
        "id": "P0Lst52hCeR1"
      },
      "execution_count": null,
      "outputs": []
    }
  ]
}